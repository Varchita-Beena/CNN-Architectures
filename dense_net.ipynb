{
  "nbformat": 4,
  "nbformat_minor": 0,
  "metadata": {
    "colab": {
      "name": "dense_net.ipynb",
      "provenance": [],
      "collapsed_sections": []
    },
    "kernelspec": {
      "name": "python3",
      "display_name": "Python 3"
    },
    "language_info": {
      "name": "python"
    }
  },
  "cells": [
    {
      "cell_type": "code",
      "metadata": {
        "id": "vBw8kvcIl_oi"
      },
      "source": [
        "import tensorflow as tf"
      ],
      "execution_count": null,
      "outputs": []
    },
    {
      "cell_type": "code",
      "metadata": {
        "id": "MIF40bDvmKzU"
      },
      "source": [
        "#for densenet-bc uncomment the lines of this block\n",
        "def dense_block(inps, filter, times, id):\n",
        "  for time in range(0, times):\n",
        "    #inps = BatchNormalization()(inps)\n",
        "    shape = inps.shape\n",
        "    part1 = inps\n",
        "    part2 = part1\n",
        "    part2 = tf.keras.layers.Conv2D(filter[0], 1, padding='same', activation='relu')(part2)\n",
        "    #part2 = BatchNormalization()(part2)\n",
        "    part2 = tf.keras.layers.Conv2D(filter[1], 3, padding='same', activation='relu')(part2)\n",
        "    inps = tf.keras.layers.Concatenate()([part1, part2])\n",
        "  return inps"
      ],
      "execution_count": null,
      "outputs": []
    },
    {
      "cell_type": "code",
      "metadata": {
        "id": "YmwfQsh9mjiT"
      },
      "source": [
        "def conv_block(inps, convs):\n",
        "  x = inps\n",
        "  for conv in convs:\n",
        "\t  x = tf.keras.layers.Conv2D(conv['filter'], conv['kernel'], conv['strides'], conv['padding'], activation='relu')(x)\n",
        "  return x"
      ],
      "execution_count": null,
      "outputs": []
    },
    {
      "cell_type": "code",
      "metadata": {
        "id": "4vbCs8rWomNL"
      },
      "source": [
        "def nin_block(inps, filter, ker):\n",
        "  x = inps\n",
        "  x = tf.keras.layers.Conv2D(filter, ker,padding='same', activation='relu')(x)\n",
        "  x = tf.keras.layers.Conv2D(filter, 1,padding='same', activation='relu')(x)\n",
        "  x = tf.keras.layers.Conv2D(filter, 1,padding='same', activation='relu')(x)\n",
        "  return x"
      ],
      "execution_count": null,
      "outputs": []
    },
    {
      "cell_type": "code",
      "metadata": {
        "id": "6D7N52p8npRc"
      },
      "source": [
        "#for densenet block remains same\n",
        "#for densenet-b also the block remains same\n",
        "#for densenet-bc, while calling all conv_block,\n",
        "#change filters to half of used in dense_block\n",
        "#In this case change 48/2 i.e 24\n",
        "#np chnage to conv_block with layer_id = 0 \n",
        "def densenet():\n",
        "  input_image = tf.keras.layers.Input(shape = (224,224,3))\n",
        "  #Layer 0 => 1\n",
        "  x = conv_block(input_image, [{'filter':32, 'kernel':7, 'padding':'same', 'strides' : 2, 'layer_ids':0}])\n",
        "  x = tf.keras.layers.MaxPool2D(pool_size = (2,2), strides = (2,2))(x)\n",
        "\n",
        "  #Dense block 1\n",
        "  x = dense_block(x, [32, 32], 10, 'dense_block1_')\n",
        "  x = tf.keras.layers.Dropout(0.5)(x)\n",
        "  x = tf.keras.layers.BatchNormalization()(x)\n",
        "\n",
        "  x = conv_block(x, [{'filter':32, 'kernel':1,'strides' : 1, 'padding':'same', 'layer_ids':2}])\n",
        "  x = tf.keras.layers.AveragePooling2D(pool_size = (2,2), strides = (2,2))(x)\n",
        "  \n",
        "  #dense block 2\n",
        "  x = dense_block(x, [32, 32], 10, 'dense_block2_')\n",
        "  x = tf.keras.layers.Dropout(0.5)(x)\n",
        "  x = tf.keras.layers.BatchNormalization()(x)\n",
        "\n",
        "  x = conv_block(x, [{'filter':32, 'kernel':1,'strides': 1, 'padding':'same', 'layer_ids':3}])\n",
        "  x = tf.keras.layers.AveragePooling2D(pool_size = (2,2), strides = 2)(x)\n",
        "  \n",
        "  #dense block 3\n",
        "  x = dense_block(x, [32, 32], 10, 'dense_block3_')\n",
        "  x = tf.keras.layers.Dropout(0.5)(x)\n",
        "  x = tf.keras.layers.BatchNormalization()(x)\n",
        "\n",
        "  x = conv_block(x, [{'filter':32, 'kernel':1, 'strides' : 1, 'padding':'same', 'layer_ids':4}])\n",
        "  x = tf.keras.layers.AveragePooling2D(pool_size = (2,2), strides = 2)(x)\n",
        "  \n",
        "  #nin block\n",
        "  x = nin_block(x, 10, 3)\n",
        "  x = tf.keras.layers.GlobalAveragePooling2D()(x)\n",
        "  x = tf.keras.layers.Reshape((1, 1, 10))(x)\n",
        "  x = tf.keras.layers.Flatten()(x)\n",
        "  x = tf.keras.models.Model(inputs = input_image, outputs = x)\n",
        "  return x\n",
        " "
      ],
      "execution_count": null,
      "outputs": []
    },
    {
      "cell_type": "code",
      "metadata": {
        "id": "dMfnRmTpo6te"
      },
      "source": [
        "model_densenet = densenet()\n",
        "model_densenet.summary()"
      ],
      "execution_count": null,
      "outputs": []
    },
    {
      "cell_type": "code",
      "metadata": {
        "id": "ZwVyaZnvpco6"
      },
      "source": [
        "tf.keras.utils.plot_model(model_densenet, to_file = 'model_densenet.png', show_shapes=True, show_layer_names=True)"
      ],
      "execution_count": null,
      "outputs": []
    },
    {
      "cell_type": "code",
      "metadata": {
        "id": "qVoAEoQ9pp6O"
      },
      "source": [
        ""
      ],
      "execution_count": null,
      "outputs": []
    }
  ]
}