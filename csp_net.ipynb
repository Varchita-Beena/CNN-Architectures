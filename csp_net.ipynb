{
  "nbformat": 4,
  "nbformat_minor": 0,
  "metadata": {
    "colab": {
      "name": "csp_net.ipynb",
      "provenance": [],
      "collapsed_sections": []
    },
    "kernelspec": {
      "name": "python3",
      "display_name": "Python 3"
    },
    "language_info": {
      "name": "python"
    }
  },
  "cells": [
    {
      "cell_type": "code",
      "metadata": {
        "id": "7uUBQo_-qsx9"
      },
      "source": [
        "import tensorflow as tf"
      ],
      "execution_count": null,
      "outputs": []
    },
    {
      "cell_type": "code",
      "metadata": {
        "id": "OsHF4EcQqxtu"
      },
      "source": [
        "def conv_block(inps, convs):\n",
        "  x = inps\n",
        "  for conv in convs:\n",
        "\t  x = tf.keras.layers.Conv2D(conv['filter'], conv['kernel'], conv['strides'], conv['padding'], activation='relu')(x)\n",
        "  return x"
      ],
      "execution_count": null,
      "outputs": []
    },
    {
      "cell_type": "code",
      "metadata": {
        "id": "EIxqjTAlqxwf"
      },
      "source": [
        "#for cspnet and fusion last the block remains same\n",
        "#for fusion first comment part2 = Conv2D(filter[2], 1, padding='same')(part2) and part2 = mish(part2)\n",
        "def dense_block_cspnet(inps, partition, filter, times, id):\n",
        "    shape = inps.shape\n",
        "    features = shape[3] - partition\n",
        "    part1 = inps\n",
        "    part1 = inps[:,:,:,0:features]\n",
        "    part2 = inps[:,:,:,features:]\n",
        "    for time in range(0, times):\n",
        "      part2 = tf.keras.layers.Conv2D(filter[0], 1, padding='same', activation='relu')(part2)\n",
        "      part2 = tf.keras.layers.Conv2D(filter[1], 3, padding='same', activation='relu')(part2)\n",
        "    \n",
        "    part2 = tf.keras.layers.Conv2D(filter[2], 1, padding='same', activation='relu')(part2)\n",
        "    inps = tf.keras.layers.Concatenate()([part1, part2])\n",
        "    return inps"
      ],
      "execution_count": null,
      "outputs": []
    },
    {
      "cell_type": "code",
      "metadata": {
        "id": "l0AzEIgMqx0x"
      },
      "source": [
        "def nin_block(inps, filter, ker):\n",
        "  x = inps\n",
        "  x = tf.keras.layers.Conv2D(filter, ker,padding='same', activation='relu')(x)\n",
        "  x = tf.keras.layers.Conv2D(filter, 1,padding='same', activation='relu')(x)\n",
        "  x = tf.keras.layers.Conv2D(filter, 1,padding='same', activation='relu')(x)\n",
        "  return x"
      ],
      "execution_count": null,
      "outputs": []
    },
    {
      "cell_type": "code",
      "metadata": {
        "id": "qUeRaEKOrDTG"
      },
      "source": [
        "#for cspnet and fusion first the block remains same\n",
        "#for fusion last comment the lines calling conv_block\n",
        "#so here 3 lines calling conv_block will be commented for fusion last\n",
        "def cspnet():\n",
        "  input_image = tf.keras.layers.Input(shape = (224, 224, 3))\n",
        "  #Layer 0 => 1\n",
        "  x = conv_block(input_image, [{'filter':32, 'kernel':7, 'padding':'same', 'strides' : 2, 'layer_ids':0}])\n",
        "  x = tf.keras.layers.MaxPool2D(pool_size = (2,2), strides = (2,2))(x)\n",
        "\n",
        "  #Dense block 1\n",
        "  x = dense_block_cspnet(x, 24, [64, 64, 64], 20, 'dense_block1_')\n",
        "  x = tf.keras.layers.Dropout(0.5)(x)\n",
        "  x = tf.keras.layers.BatchNormalization()(x)\n",
        "\n",
        "  x = conv_block(x, [{'filter':64, 'kernel':1,'strides' : 1, 'padding':'same', 'layer_ids':2}])\n",
        "  x = tf.keras.layers.AveragePooling2D(pool_size = (2,2), strides = (2,2))(x)\n",
        "  \n",
        "  #dense block 2\n",
        "  x = dense_block_cspnet(x, 24, [64, 64, 64], 20, 'dense_block2_')\n",
        "  x = tf.keras.layers.Dropout(0.5)(x)\n",
        "  x = tf.keras.layers.BatchNormalization()(x)\n",
        "\n",
        "  x = conv_block(x, [{'filter':64, 'kernel':1,'strides': 1, 'padding':'same', 'layer_ids':3}])\n",
        "  x = tf.keras.layers.AveragePooling2D(pool_size = (2,2), strides = 2)(x)\n",
        "  \n",
        "  #dense block 3\n",
        "  x = dense_block_cspnet(x, 24, [64, 64, 64], 20, 'dense_block3_')\n",
        "  x = tf.keras.layers.Dropout(0.5)(x)\n",
        "  x = tf.keras.layers.BatchNormalization()(x)\n",
        "\n",
        "  x = conv_block(x, [{'filter':64, 'kernel':1, 'strides' : 1, 'padding':'same', 'layer_ids':4}])\n",
        "  x = tf.keras.layers.AveragePooling2D(pool_size = (2,2), strides = 2)(x)\n",
        "  \n",
        "  #nin block\n",
        "  x = nin_block(x, 10, 3)\n",
        "  x = tf.keras.layers.GlobalAveragePooling2D()(x)\n",
        "  x = tf.keras.layers.Reshape((1, 1, 10))(x)\n",
        "  x = tf.keras.layers.Flatten()(x)\n",
        "  x = tf.keras.models.Model(inputs = input_image, outputs = x)\n",
        "  return x"
      ],
      "execution_count": null,
      "outputs": []
    },
    {
      "cell_type": "code",
      "metadata": {
        "id": "attVFZvEq7_J"
      },
      "source": [
        "model_cspnet = cspnet()\n",
        "model_cspnet.summary()"
      ],
      "execution_count": null,
      "outputs": []
    },
    {
      "cell_type": "code",
      "metadata": {
        "id": "nYV-zqevq-UH"
      },
      "source": [
        "tf.keras.utils.plot_model(model_cspnet, to_file = 'model_cspnet.png', show_shapes=True, show_layer_names=True)"
      ],
      "execution_count": null,
      "outputs": []
    },
    {
      "cell_type": "code",
      "metadata": {
        "id": "hJXpyr7yrho7"
      },
      "source": [
        ""
      ],
      "execution_count": null,
      "outputs": []
    }
  ]
}